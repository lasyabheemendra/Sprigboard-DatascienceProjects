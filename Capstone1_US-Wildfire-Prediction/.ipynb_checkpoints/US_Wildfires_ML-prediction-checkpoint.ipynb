{
 "cells": [
  {
   "cell_type": "markdown",
   "metadata": {},
   "source": [
    "The goal of this project is to attempt to predict the causes of wildfires given data such as location,month and fire size"
   ]
  },
  {
   "cell_type": "code",
   "execution_count": 1,
   "metadata": {},
   "outputs": [],
   "source": [
    "import pandas as pd\n",
    "import matplotlib.pyplot as plt\n",
    "import numpy as np\n",
    "\n",
    "from sklearn import tree, preprocessing\n",
    "import sklearn.ensemble as ske\n",
    "from sklearn.model_selection import train_test_split"
   ]
  },
  {
   "cell_type": "code",
   "execution_count": 2,
   "metadata": {},
   "outputs": [],
   "source": [
    "US_fires_data = pd.read_csv(\"US_Widfires_cleanData.csv\")"
   ]
  },
  {
   "cell_type": "code",
   "execution_count": 3,
   "metadata": {},
   "outputs": [
    {
     "name": "stdout",
     "output_type": "stream",
     "text": [
      "<class 'pandas.core.frame.DataFrame'>\n",
      "RangeIndex: 1838525 entries, 0 to 1838524\n",
      "Data columns (total 15 columns):\n",
      "Unnamed: 0          int64\n",
      "GLOBAL_UNIQUE_ID    int64\n",
      "DISCOVERY_DATE      object\n",
      "FIRE_YEAR           int64\n",
      "STAT_CAUSE_DESCR    object\n",
      "FIRE_SIZE           float64\n",
      "FIRE_SIZE_CLASS     object\n",
      "STATE               object\n",
      "STATE_NAME          object\n",
      "COUNTY_NAME         object\n",
      "LATITUDE            float64\n",
      "LONGITUDE           float64\n",
      "DISCOVERY_DOY       int64\n",
      "OWNER_DESCR         object\n",
      "FIPS_CODE           float64\n",
      "dtypes: float64(4), int64(4), object(7)\n",
      "memory usage: 210.4+ MB\n"
     ]
    }
   ],
   "source": [
    "US_fires_data.info()"
   ]
  },
  {
   "cell_type": "markdown",
   "metadata": {},
   "source": [
    "Taking only Date, Fire size and location related columns from dataframe which I will be using as features in machine learning model"
   ]
  },
  {
   "cell_type": "code",
   "execution_count": 4,
   "metadata": {},
   "outputs": [],
   "source": [
    "US_fires_data = US_fires_data[['DISCOVERY_DATE','FIRE_YEAR','STATE','LATITUDE','LONGITUDE','STAT_CAUSE_DESCR']]"
   ]
  },
  {
   "cell_type": "code",
   "execution_count": 5,
   "metadata": {},
   "outputs": [
    {
     "data": {
      "text/html": [
       "<div>\n",
       "<style scoped>\n",
       "    .dataframe tbody tr th:only-of-type {\n",
       "        vertical-align: middle;\n",
       "    }\n",
       "\n",
       "    .dataframe tbody tr th {\n",
       "        vertical-align: top;\n",
       "    }\n",
       "\n",
       "    .dataframe thead th {\n",
       "        text-align: right;\n",
       "    }\n",
       "</style>\n",
       "<table border=\"1\" class=\"dataframe\">\n",
       "  <thead>\n",
       "    <tr style=\"text-align: right;\">\n",
       "      <th></th>\n",
       "      <th>DISCOVERY_DATE</th>\n",
       "      <th>FIRE_YEAR</th>\n",
       "      <th>STATE</th>\n",
       "      <th>LATITUDE</th>\n",
       "      <th>LONGITUDE</th>\n",
       "      <th>STAT_CAUSE_DESCR</th>\n",
       "    </tr>\n",
       "  </thead>\n",
       "  <tbody>\n",
       "    <tr>\n",
       "      <td>0</td>\n",
       "      <td>2005-02-02</td>\n",
       "      <td>2005</td>\n",
       "      <td>CA</td>\n",
       "      <td>40.036944</td>\n",
       "      <td>-121.005833</td>\n",
       "      <td>Miscellaneous</td>\n",
       "    </tr>\n",
       "    <tr>\n",
       "      <td>1</td>\n",
       "      <td>2004-05-12</td>\n",
       "      <td>2004</td>\n",
       "      <td>CA</td>\n",
       "      <td>38.933056</td>\n",
       "      <td>-120.404444</td>\n",
       "      <td>Lightning</td>\n",
       "    </tr>\n",
       "    <tr>\n",
       "      <td>2</td>\n",
       "      <td>2004-05-31</td>\n",
       "      <td>2004</td>\n",
       "      <td>CA</td>\n",
       "      <td>38.984167</td>\n",
       "      <td>-120.735556</td>\n",
       "      <td>Debris Burning</td>\n",
       "    </tr>\n",
       "    <tr>\n",
       "      <td>3</td>\n",
       "      <td>2004-06-28</td>\n",
       "      <td>2004</td>\n",
       "      <td>CA</td>\n",
       "      <td>38.559167</td>\n",
       "      <td>-119.913333</td>\n",
       "      <td>Lightning</td>\n",
       "    </tr>\n",
       "    <tr>\n",
       "      <td>4</td>\n",
       "      <td>2004-06-28</td>\n",
       "      <td>2004</td>\n",
       "      <td>CA</td>\n",
       "      <td>38.559167</td>\n",
       "      <td>-119.933056</td>\n",
       "      <td>Lightning</td>\n",
       "    </tr>\n",
       "    <tr>\n",
       "      <td>...</td>\n",
       "      <td>...</td>\n",
       "      <td>...</td>\n",
       "      <td>...</td>\n",
       "      <td>...</td>\n",
       "      <td>...</td>\n",
       "      <td>...</td>\n",
       "    </tr>\n",
       "    <tr>\n",
       "      <td>1838520</td>\n",
       "      <td>2015-09-26</td>\n",
       "      <td>2015</td>\n",
       "      <td>CA</td>\n",
       "      <td>40.481637</td>\n",
       "      <td>-122.389375</td>\n",
       "      <td>Missing/Undefined</td>\n",
       "    </tr>\n",
       "    <tr>\n",
       "      <td>1838521</td>\n",
       "      <td>2015-10-05</td>\n",
       "      <td>2015</td>\n",
       "      <td>CA</td>\n",
       "      <td>37.617619</td>\n",
       "      <td>-120.938570</td>\n",
       "      <td>Miscellaneous</td>\n",
       "    </tr>\n",
       "    <tr>\n",
       "      <td>1838522</td>\n",
       "      <td>2015-05-02</td>\n",
       "      <td>2015</td>\n",
       "      <td>CA</td>\n",
       "      <td>37.617619</td>\n",
       "      <td>-120.938570</td>\n",
       "      <td>Missing/Undefined</td>\n",
       "    </tr>\n",
       "    <tr>\n",
       "      <td>1838523</td>\n",
       "      <td>2015-10-14</td>\n",
       "      <td>2015</td>\n",
       "      <td>CA</td>\n",
       "      <td>37.672235</td>\n",
       "      <td>-120.898356</td>\n",
       "      <td>Missing/Undefined</td>\n",
       "    </tr>\n",
       "    <tr>\n",
       "      <td>1838524</td>\n",
       "      <td>2015-03-14</td>\n",
       "      <td>2015</td>\n",
       "      <td>CA</td>\n",
       "      <td>34.263217</td>\n",
       "      <td>-116.830950</td>\n",
       "      <td>Miscellaneous</td>\n",
       "    </tr>\n",
       "  </tbody>\n",
       "</table>\n",
       "<p>1838525 rows × 6 columns</p>\n",
       "</div>"
      ],
      "text/plain": [
       "        DISCOVERY_DATE  FIRE_YEAR STATE   LATITUDE   LONGITUDE  \\\n",
       "0           2005-02-02       2005    CA  40.036944 -121.005833   \n",
       "1           2004-05-12       2004    CA  38.933056 -120.404444   \n",
       "2           2004-05-31       2004    CA  38.984167 -120.735556   \n",
       "3           2004-06-28       2004    CA  38.559167 -119.913333   \n",
       "4           2004-06-28       2004    CA  38.559167 -119.933056   \n",
       "...                ...        ...   ...        ...         ...   \n",
       "1838520     2015-09-26       2015    CA  40.481637 -122.389375   \n",
       "1838521     2015-10-05       2015    CA  37.617619 -120.938570   \n",
       "1838522     2015-05-02       2015    CA  37.617619 -120.938570   \n",
       "1838523     2015-10-14       2015    CA  37.672235 -120.898356   \n",
       "1838524     2015-03-14       2015    CA  34.263217 -116.830950   \n",
       "\n",
       "          STAT_CAUSE_DESCR  \n",
       "0            Miscellaneous  \n",
       "1                Lightning  \n",
       "2           Debris Burning  \n",
       "3                Lightning  \n",
       "4                Lightning  \n",
       "...                    ...  \n",
       "1838520  Missing/Undefined  \n",
       "1838521      Miscellaneous  \n",
       "1838522  Missing/Undefined  \n",
       "1838523  Missing/Undefined  \n",
       "1838524      Miscellaneous  \n",
       "\n",
       "[1838525 rows x 6 columns]"
      ]
     },
     "execution_count": 5,
     "metadata": {},
     "output_type": "execute_result"
    }
   ],
   "source": [
    "US_fires_data"
   ]
  },
  {
   "cell_type": "markdown",
   "metadata": {},
   "source": [
    "Keeping only month data from date of fire and dropping 'Discovery_Date' column"
   ]
  },
  {
   "cell_type": "code",
   "execution_count": 6,
   "metadata": {},
   "outputs": [],
   "source": [
    "US_fires_data['MONTH'] = pd.DatetimeIndex(US_fires_data['DISCOVERY_DATE']).month"
   ]
  },
  {
   "cell_type": "code",
   "execution_count": 7,
   "metadata": {},
   "outputs": [],
   "source": [
    "US_fires_data = US_fires_data.drop('DISCOVERY_DATE',axis=1)"
   ]
  },
  {
   "cell_type": "markdown",
   "metadata": {},
   "source": [
    "As we have seen in EDA California,Georgia and Texas are three states which reported more number of fires from 1992-2015. To analyse further I have taken data related to these states separetly."
   ]
  },
  {
   "cell_type": "code",
   "execution_count": 8,
   "metadata": {},
   "outputs": [],
   "source": [
    "US_fires_data_CA = US_fires_data[US_fires_data['STATE']=='CA']\n",
    "US_fires_data_GA = US_fires_data[US_fires_data['STATE']=='GA']\n",
    "US_fires_data_TX = US_fires_data[US_fires_data['STATE']=='TX']\n",
    "US_fires_data_orig = US_fires_data.copy()\n",
    "US_fires_data_CA_orig = US_fires_data_CA.copy()"
   ]
  },
  {
   "cell_type": "markdown",
   "metadata": {},
   "source": [
    " I will convert all features to numeric values, this is necessary for the machine learning stage."
   ]
  },
  {
   "cell_type": "code",
   "execution_count": 9,
   "metadata": {},
   "outputs": [
    {
     "name": "stdout",
     "output_type": "stream",
     "text": [
      "   FIRE_YEAR  STATE   LATITUDE   LONGITUDE  STAT_CAUSE_DESCR  MONTH\n",
      "0       2005      4  40.036944 -121.005833                 7      2\n",
      "1       2004      4  38.933056 -120.404444                 6      5\n",
      "2       2004      4  38.984167 -120.735556                 3      5\n",
      "3       2004      4  38.559167 -119.913333                 6      6\n",
      "4       2004      4  38.559167 -119.933056                 6      6\n"
     ]
    }
   ],
   "source": [
    "le = preprocessing.LabelEncoder()\n",
    "US_fires_data['STAT_CAUSE_DESCR'] = le.fit_transform(US_fires_data['STAT_CAUSE_DESCR'])\n",
    "US_fires_data['STATE'] = le.fit_transform(US_fires_data['STATE'])\n",
    "print(US_fires_data.head())"
   ]
  },
  {
   "cell_type": "markdown",
   "metadata": {},
   "source": [
    "The goal is to predict the cause of the fire = STAT_CAUSE_DESCR. Since I'll be using supervised learning I need to create training and test datasets\n",
    "\n",
    "Features/Predicted Variable = FIRE_YEAR,FIRE_SIZE,STATE,LONGITUDE,LATITUDE,MONTH\n",
    "Target Variable = STAT_CAUSE_DESCR\n",
    "\n",
    "I have spilt data in 30% for testing, 70% for training"
   ]
  },
  {
   "cell_type": "code",
   "execution_count": 10,
   "metadata": {},
   "outputs": [],
   "source": [
    "X = US_fires_data.drop(['STAT_CAUSE_DESCR'], axis=1).values\n",
    "y = US_fires_data['STAT_CAUSE_DESCR'].values"
   ]
  },
  {
   "cell_type": "code",
   "execution_count": 11,
   "metadata": {},
   "outputs": [],
   "source": [
    "X_train, X_test, y_train, y_test = train_test_split(X,y,test_size=0.3, random_state=42)"
   ]
  },
  {
   "cell_type": "code",
   "execution_count": 12,
   "metadata": {},
   "outputs": [
    {
     "name": "stdout",
     "output_type": "stream",
     "text": [
      "0.5662867731045511\n"
     ]
    }
   ],
   "source": [
    "clf_rf = ske.RandomForestClassifier(n_estimators=50)\n",
    "clf_rf = clf_rf.fit(X_train, y_train)\n",
    "print(clf_rf.score(X_test,y_test))"
   ]
  },
  {
   "cell_type": "markdown",
   "metadata": {},
   "source": [
    "I have used Random Forest Algorithm here as I think that fits my dataset well. The prediction score of this model is approximately 57%."
   ]
  },
  {
   "cell_type": "markdown",
   "metadata": {},
   "source": [
    "There are a lot of different Causes, I wanted to put some of these together and have just 3 classes for the cause of fires. Then test again to see if the score improves.\n",
    "\n",
    "The 3 classes are: __natural, unnatural and other__\n",
    "\n",
    "__where natural = ['Lightning']__\n",
    "\n",
    "__accidental = ['Arson','Structure','Fireworks','Powerline','Railroad','Smoking','Children','Campfire','Equipment Use','Debris Burning']__\n",
    "\n",
    "__other = ['Missing/Undefined','Miscellaneous']__"
   ]
  },
  {
   "cell_type": "code",
   "execution_count": 13,
   "metadata": {},
   "outputs": [
    {
     "name": "stdout",
     "output_type": "stream",
     "text": [
      "   FIRE_YEAR  STATE   LATITUDE   LONGITUDE  MONTH  LABEL\n",
      "0       2005      4  40.036944 -121.005833      2      3\n",
      "1       2004      4  38.933056 -120.404444      5      1\n",
      "2       2004      4  38.984167 -120.735556      5      2\n",
      "3       2004      4  38.559167 -119.913333      6      1\n",
      "4       2004      4  38.559167 -119.933056      6      1\n"
     ]
    }
   ],
   "source": [
    "def set_label(cat):\n",
    "    cause = 0\n",
    "    natural = ['Lightning']\n",
    "    unnatural = ['Structure','Fireworks','Powerline','Railroad','Smoking','Children','Campfire','Equipment Use','Debris Burning','Arson']\n",
    "    other = ['Missing/Undefined','Miscellaneous']\n",
    "    if cat in natural:\n",
    "        cause = 1\n",
    "    elif cat in unnatural:\n",
    "        cause = 2\n",
    "    elif cat in other:\n",
    "        cause = 3\n",
    "    else:\n",
    "        cause = 4\n",
    "    return cause\n",
    "     \n",
    "\n",
    "US_fires_data['LABEL'] = US_fires_data_orig['STAT_CAUSE_DESCR'].apply(lambda x: set_label(x)) # I created a copy of the original df earlier in the kernel\n",
    "US_fires_data = US_fires_data.drop('STAT_CAUSE_DESCR',axis=1)\n",
    "print(US_fires_data.head())"
   ]
  },
  {
   "cell_type": "code",
   "execution_count": 14,
   "metadata": {},
   "outputs": [
    {
     "name": "stdout",
     "output_type": "stream",
     "text": [
      "0.7878790625827202\n"
     ]
    }
   ],
   "source": [
    "X = US_fires_data.drop(['LABEL'], axis=1).values\n",
    "y = US_fires_data['LABEL'].values\n",
    "X_train, X_test, y_train, y_test = train_test_split(X,y,test_size=0.3, random_state=0)\n",
    "clf_rf = ske.RandomForestClassifier(n_estimators=50)\n",
    "clf_rf = clf_rf.fit(X_train, y_train)\n",
    "print(clf_rf.score(X_test,y_test))"
   ]
  },
  {
   "cell_type": "markdown",
   "metadata": {},
   "source": [
    "I've now replaced STAT_CAUSE_DESCR with LABEL. So now I tried to predict LABEL.Reducing the number of catagories improved the prediction score significantly (from around 57% to 79%) Prediction score is a good metric to measure success but we can look at other metrics such as confusion_matrix"
   ]
  },
  {
   "cell_type": "code",
   "execution_count": 15,
   "metadata": {},
   "outputs": [
    {
     "name": "stdout",
     "output_type": "stream",
     "text": [
      "[[ 63623  13133   4647]\n",
      " [ 11222 290820  28771]\n",
      " [  6148  52991  80203]]\n"
     ]
    }
   ],
   "source": [
    "from sklearn.metrics import confusion_matrix\n",
    "y_pred = clf_rf.fit(X_train, y_train).predict(X_test)\n",
    "cm = confusion_matrix(y_true=y_test,y_pred=y_pred,labels=[1,2,3])\n",
    "print(cm)"
   ]
  },
  {
   "cell_type": "code",
   "execution_count": 16,
   "metadata": {},
   "outputs": [
    {
     "data": {
      "image/png": "[encoded data removed]",
      "text/plain": [
       "<Figure size 720x720 with 1 Axes>"
      ]
     },
     "metadata": {
      "needs_background": "light"
     },
     "output_type": "display_data"
    }
   ],
   "source": [
    "cmn = cm.astype('float') / cm.sum(axis=1)[:, np.newaxis]\n",
    "fig,ax = plt.subplots(figsize=(10,10))\n",
    "ax.matshow(cmn,cmap=plt.cm.Oranges,alpha=0.7)\n",
    "for i in range(cmn.shape[0]):\n",
    "    for j in range(cmn.shape[1]):\n",
    "        ax.text(x=j,y=i,s=cmn[i,j],va='center',ha='center')\n",
    "plt.xlabel('predicted label')\n",
    "plt.ylabel('true label')\n",
    "plt.show()"
   ]
  },
  {
   "cell_type": "markdown",
   "metadata": {},
   "source": [
    "we can predict the cause of these wildfires using the data provided, at least to an accuracy of 58% or better. Reducing the number of labels significantly improves the prediction score to 79% for the random forest algorithm."
   ]
  },
  {
   "cell_type": "markdown",
   "metadata": {},
   "source": [
    "Given that it is easier to make accurate predictions if the number of classes is reduced,I wanted to look at just one state at a time \n",
    "and build a system that can predict cause in that State. First I wanted to see How well model predicts only for California."
   ]
  },
  {
   "cell_type": "code",
   "execution_count": 17,
   "metadata": {},
   "outputs": [
    {
     "name": "stdout",
     "output_type": "stream",
     "text": [
      "   FIRE_YEAR STATE   LATITUDE   LONGITUDE STAT_CAUSE_DESCR  MONTH\n",
      "0       2005    CA  40.036944 -121.005833    Miscellaneous      2\n",
      "1       2004    CA  38.933056 -120.404444        Lightning      5\n",
      "2       2004    CA  38.984167 -120.735556   Debris Burning      5\n",
      "3       2004    CA  38.559167 -119.913333        Lightning      6\n",
      "4       2004    CA  38.559167 -119.933056        Lightning      6\n"
     ]
    }
   ],
   "source": [
    "print(US_fires_data_CA.head())"
   ]
  },
  {
   "cell_type": "code",
   "execution_count": 18,
   "metadata": {},
   "outputs": [
    {
     "name": "stdout",
     "output_type": "stream",
     "text": [
      "   FIRE_YEAR STATE   LATITUDE   LONGITUDE  MONTH  LABEL\n",
      "0       2005    CA  40.036944 -121.005833      2      3\n",
      "1       2004    CA  38.933056 -120.404444      5      1\n",
      "2       2004    CA  38.984167 -120.735556      5      2\n",
      "3       2004    CA  38.559167 -119.913333      6      1\n",
      "4       2004    CA  38.559167 -119.933056      6      1\n"
     ]
    }
   ],
   "source": [
    "US_fires_data_CA['LABEL'] = US_fires_data_CA_orig['STAT_CAUSE_DESCR'].apply(lambda x: set_label(x)) # I created a copy of the original df earlier in the kernel\n",
    "US_fires_data_CA = US_fires_data_CA.drop('STAT_CAUSE_DESCR',axis=1)\n",
    "print(US_fires_data_CA.head())"
   ]
  },
  {
   "cell_type": "code",
   "execution_count": 19,
   "metadata": {},
   "outputs": [],
   "source": [
    "le = preprocessing.LabelEncoder()\n",
    "US_fires_data_CA['STATE'] = le.fit_transform(US_fires_data_CA['STATE'])"
   ]
  },
  {
   "cell_type": "code",
   "execution_count": 20,
   "metadata": {},
   "outputs": [],
   "source": [
    "X = US_fires_data_CA.drop(['LABEL'], axis=1).values\n",
    "y = US_fires_data_CA['LABEL'].values"
   ]
  },
  {
   "cell_type": "code",
   "execution_count": 21,
   "metadata": {},
   "outputs": [],
   "source": [
    "X_train, X_test, y_train, y_test = train_test_split(X,y,test_size=0.3, random_state=42)"
   ]
  },
  {
   "cell_type": "code",
   "execution_count": 22,
   "metadata": {},
   "outputs": [
    {
     "name": "stdout",
     "output_type": "stream",
     "text": [
      "0.6427099571753659\n"
     ]
    }
   ],
   "source": [
    "clf_rf = ske.RandomForestClassifier(n_estimators=50)\n",
    "clf_rf = clf_rf.fit(X_train, y_train)\n",
    "print(clf_rf.score(X_test,y_test))"
   ]
  },
  {
   "cell_type": "markdown",
   "metadata": {},
   "source": [
    "The generic model accuracy was significantly more compared to model per state."
   ]
  },
  {
   "cell_type": "code",
   "execution_count": null,
   "metadata": {},
   "outputs": [],
   "source": []
  }
 ],
 "metadata": {
  "kernelspec": {
   "display_name": "Python 3",
   "language": "python",
   "name": "python3"
  },
  "language_info": {
   "codemirror_mode": {
    "name": "ipython",
    "version": 3
   },
   "file_extension": ".py",
   "mimetype": "text/x-python",
   "name": "python",
   "nbconvert_exporter": "python",
   "pygments_lexer": "ipython3",
   "version": "3.7.4"
  }
 },
 "nbformat": 4,
 "nbformat_minor": 2
}
